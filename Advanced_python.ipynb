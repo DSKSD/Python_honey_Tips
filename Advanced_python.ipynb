{
 "cells": [
  {
   "cell_type": "markdown",
   "metadata": {},
   "source": [
    "# Generator "
   ]
  },
  {
   "cell_type": "markdown",
   "metadata": {},
   "source": [
    "generator는 values의 시퀀스를 만들어내는 오브젝트다. for문처럼 iterator로 사용할 수도 있고, 혹은 next function을 이용해서 그 다음 value를 가져올 수 있다.(하지만 그 value에 대해서 단 한번만 iterate할 수 있다.) <br>\n",
    "generator는 함수 안에서 yield 키워드를 사용해서 만들 수 있다. generator function이 호출되면, generator object가 만들어 진다."
   ]
  },
  {
   "cell_type": "code",
   "execution_count": 1,
   "metadata": {
    "collapsed": true
   },
   "outputs": [],
   "source": [
    "def fibonacci_generator():\n",
    "    a, b = 0, 1\n",
    "    while True:\n",
    "        yield a\n",
    "        a, b = b, a + b"
   ]
  },
  {
   "cell_type": "code",
   "execution_count": 3,
   "metadata": {},
   "outputs": [
    {
     "name": "stdout",
     "output_type": "stream",
     "text": [
      "0\n",
      "1\n",
      "1\n",
      "2\n",
      "3\n",
      "5\n",
      "8\n",
      "13\n",
      "21\n",
      "34\n",
      "55\n",
      "89\n",
      "144\n",
      "233\n",
      "377\n",
      "610\n",
      "987\n"
     ]
    }
   ],
   "source": [
    "# Print all the numbers of the Fibonacci sequence that are lower than 1000\n",
    "for i in fibonacci_generator():\n",
    "    if i > 1000:\n",
    "        break\n",
    "    print(i)"
   ]
  },
  {
   "cell_type": "markdown",
   "metadata": {},
   "source": [
    "더 간단한 케이스로, generator expression을 이용해서 generator를 만들 수도 있다. 리스트와는 달리, values는 실시간으로 계산된다. (메모리에 저장되지 않는다.)"
   ]
  },
  {
   "cell_type": "code",
   "execution_count": 4,
   "metadata": {},
   "outputs": [
    {
     "name": "stdout",
     "output_type": "stream",
     "text": [
      "<class 'generator'>\n",
      "328350\n",
      "0\n"
     ]
    }
   ],
   "source": [
    "a = (x * x for x in range(100))\n",
    "\n",
    "# a is a generator object\n",
    "print(type(a))\n",
    "\n",
    "# Sum all the numbers of the generator\n",
    "print(sum(a))\n",
    "\n",
    "# There are no elements left in the generator\n",
    "print(sum(a))"
   ]
  },
  {
   "cell_type": "markdown",
   "metadata": {},
   "source": [
    "# Collections "
   ]
  },
  {
   "cell_type": "markdown",
   "metadata": {},
   "source": [
    "collections은 여러 대안적인 데이터 스트럭처를 다룰 수 있는 표준 라이브러리"
   ]
  },
  {
   "cell_type": "markdown",
   "metadata": {},
   "source": [
    "## 1. Counter "
   ]
  },
  {
   "cell_type": "markdown",
   "metadata": {},
   "source": [
    "counter는 elements를 dictionary-key로 저장하면서 그 elements의 수를 카운트한다."
   ]
  },
  {
   "cell_type": "code",
   "execution_count": 5,
   "metadata": {},
   "outputs": [
    {
     "name": "stdout",
     "output_type": "stream",
     "text": [
      "Counter({'e': 1, 'b': 1, 'u': 1, 'l': 1})\n",
      "Counter({'l': 2, 'e': 1, 'w': 1, 'o': 1, 'y': 1})\n",
      "[('l', 3), ('e', 2), ('b', 1)]\n"
     ]
    }
   ],
   "source": [
    "from collections import Counter\n",
    "\n",
    "a = Counter('blue')\n",
    "b = Counter('yellow')\n",
    "\n",
    "print(a)\n",
    "print(b)\n",
    "print((a + b).most_common(3))"
   ]
  },
  {
   "cell_type": "markdown",
   "metadata": {},
   "source": [
    "## 2. defaultdict "
   ]
  },
  {
   "cell_type": "markdown",
   "metadata": {},
   "source": [
    "일반 딕셔너리는 그 key가 없는데 참조하려 하면 error를 내지만, defaultdict는 미리 지정해둔 default value를 리턴한다."
   ]
  },
  {
   "cell_type": "code",
   "execution_count": 7,
   "metadata": {},
   "outputs": [
    {
     "name": "stdout",
     "output_type": "stream",
     "text": [
      "<class 'collections.defaultdict'>\n",
      "42\n",
      "Default Value\n"
     ]
    }
   ],
   "source": [
    "from collections import defaultdict\n",
    "\n",
    "my_dict = defaultdict(lambda: 'Default Value')\n",
    "my_dict['a'] = 42\n",
    "\n",
    "print(type(my_dict))\n",
    "print(my_dict['a'])\n",
    "print(my_dict['b'])"
   ]
  },
  {
   "cell_type": "markdown",
   "metadata": {},
   "source": [
    "이러한 defaultdict를 이용하면 tree 형태의 데이터 구조를 만들 수 있다."
   ]
  },
  {
   "cell_type": "code",
   "execution_count": 8,
   "metadata": {},
   "outputs": [
    {
     "name": "stdout",
     "output_type": "stream",
     "text": [
      "{\n",
      "    \"Page\": {\n",
      "        \"Python\": {\n",
      "            \"defaultdict\": {\n",
      "                \"Title\": \"Using defaultdict\",\n",
      "                \"Subtitle\": \"Create a tree\"\n",
      "            }\n",
      "        },\n",
      "        \"Java\": null\n",
      "    }\n",
      "}\n"
     ]
    }
   ],
   "source": [
    "from collections import defaultdict\n",
    "import json\n",
    "\n",
    "def tree():\n",
    "    \"\"\"\n",
    "    Factory that creates a defaultdict that also uses this factory\n",
    "    \"\"\"\n",
    "    return defaultdict(tree)\n",
    "\n",
    "root = tree()\n",
    "root['Page']['Python']['defaultdict']['Title'] = 'Using defaultdict'\n",
    "root['Page']['Python']['defaultdict']['Subtitle'] = 'Create a tree'\n",
    "root['Page']['Java'] = None\n",
    "\n",
    "print(json.dumps(root, indent=4))\n"
   ]
  },
  {
   "cell_type": "markdown",
   "metadata": {},
   "source": [
    "# itertools "
   ]
  },
  {
   "cell_type": "markdown",
   "metadata": {},
   "source": [
    "itertools는 효과적으로 루핑을 돌 수 있게 iterators를 만들어 주는 표준 라이브러리"
   ]
  },
  {
   "cell_type": "markdown",
   "metadata": {},
   "source": [
    "## 1. permutations "
   ]
  },
  {
   "cell_type": "markdown",
   "metadata": {},
   "source": [
    "permutations은 인풋의 가능한 모든 ordering 집합을 생성한다. 3p1"
   ]
  },
  {
   "cell_type": "code",
   "execution_count": 13,
   "metadata": {},
   "outputs": [
    {
     "name": "stdout",
     "output_type": "stream",
     "text": [
      "(1, 2, 3)\n",
      "(1, 3, 2)\n",
      "(2, 1, 3)\n",
      "(2, 3, 1)\n",
      "(3, 1, 2)\n",
      "(3, 2, 1)\n"
     ]
    }
   ],
   "source": [
    "from itertools import permutations\n",
    "\n",
    "for p in permutations([1,2,3]):\n",
    "    print(p)"
   ]
  },
  {
   "cell_type": "markdown",
   "metadata": {},
   "source": [
    "## 2. combinations "
   ]
  },
  {
   "cell_type": "markdown",
   "metadata": {},
   "source": [
    "combinations은 인풋의 ordering에 상관없는 집합(콤비네이션)을 생성한다."
   ]
  },
  {
   "cell_type": "code",
   "execution_count": 11,
   "metadata": {},
   "outputs": [
    {
     "name": "stdout",
     "output_type": "stream",
     "text": [
      "(1, 2)\n",
      "(1, 3)\n",
      "(1, 4)\n",
      "(2, 3)\n",
      "(2, 4)\n",
      "(3, 4)\n"
     ]
    }
   ],
   "source": [
    "from itertools import combinations\n",
    "\n",
    "for c in combinations([1, 2, 3, 4], 2):\n",
    "    print(c)"
   ]
  },
  {
   "cell_type": "markdown",
   "metadata": {},
   "source": [
    "## 3. chain "
   ]
  },
  {
   "cell_type": "markdown",
   "metadata": {},
   "source": [
    "chain은 iteration이 가능한 elements를 묶어서 이어준다. "
   ]
  },
  {
   "cell_type": "code",
   "execution_count": 14,
   "metadata": {},
   "outputs": [
    {
     "name": "stdout",
     "output_type": "stream",
     "text": [
      "0\n",
      "1\n",
      "2\n",
      "12\n",
      "13\n",
      "14\n"
     ]
    }
   ],
   "source": [
    "from itertools import chain\n",
    "\n",
    "for c in chain(range(3), range(12, 15)):\n",
    "    print(c)"
   ]
  },
  {
   "cell_type": "markdown",
   "metadata": {},
   "source": [
    "# Packing/Unpacking "
   ]
  },
  {
   "cell_type": "markdown",
   "metadata": {},
   "source": [
    "\\* operator(unpack 혹은 splat operator라고도 불리는)는 리스트나 튜플로부터 개별 변수 혹은 인자로 변환하고자 할 때 편리하게 사용할 수 있다."
   ]
  },
  {
   "cell_type": "code",
   "execution_count": 17,
   "metadata": {},
   "outputs": [
    {
     "name": "stdout",
     "output_type": "stream",
     "text": [
      "2\n",
      "[7, 5, 6, 3, 4]\n",
      "1\n"
     ]
    }
   ],
   "source": [
    "a, *b, c = [2, 7, 5, 6, 3, 4, 1]\n",
    "print(a)\n",
    "print(b)\n",
    "print(c)"
   ]
  },
  {
   "cell_type": "code",
   "execution_count": 19,
   "metadata": {},
   "outputs": [
    {
     "name": "stdout",
     "output_type": "stream",
     "text": [
      "[1, 2, 3]\n",
      "1 2 3\n"
     ]
    }
   ],
   "source": [
    "a = [1,2,3]\n",
    "print(a)\n",
    "print(*a)"
   ]
  },
  {
   "cell_type": "markdown",
   "metadata": {},
   "source": [
    "함수의 인자가 이미 리스트나 튜플 안에 있을때, 그들이 list라면 \\*args을 dict라면 **kwargs를 사용해서 unpack할 수 있다. "
   ]
  },
  {
   "cell_type": "code",
   "execution_count": 21,
   "metadata": {},
   "outputs": [
    {
     "name": "stdout",
     "output_type": "stream",
     "text": [
      "Call function repeat using a list of arguments:\n",
      "cats\n",
      "cats\n",
      "cats\n",
      "cats\n",
      "Call function repeat using a dictionary of keyword arguments:\n",
      "cats\n",
      "cats\n",
      "cats\n",
      "cats\n"
     ]
    }
   ],
   "source": [
    "def repeat(count, name):\n",
    "    for i in range(count):\n",
    "        print(name)\n",
    "\n",
    "print(\"Call function repeat using a list of arguments:\")\n",
    "args = [4, \"cats\"]\n",
    "repeat(*args)\n",
    "\n",
    "print(\"Call function repeat using a dictionary of keyword arguments:\")\n",
    "args2 = {'count': 4, 'name': 'cats'}\n",
    "repeat(**args2)"
   ]
  },
  {
   "cell_type": "markdown",
   "metadata": {},
   "source": [
    "반대도 가능하다. packing"
   ]
  },
  {
   "cell_type": "code",
   "execution_count": 28,
   "metadata": {},
   "outputs": [
    {
     "name": "stdout",
     "output_type": "stream",
     "text": [
      "Arguments:  (3, 4, 9)\n",
      "Keyword arguments:  {'bar': 7, 'good': 'z', 'foo': 42}\n"
     ]
    }
   ],
   "source": [
    "def f(*args, **kwargs):\n",
    "    print(\"Arguments: \", args)\n",
    "    print(\"Keyword arguments: \", kwargs)\n",
    "\n",
    "f(3, 4, 9, foo=42, bar=7,good='z')"
   ]
  },
  {
   "cell_type": "markdown",
   "metadata": {},
   "source": [
    "# Decorator "
   ]
  },
  {
   "cell_type": "markdown",
   "metadata": {},
   "source": [
    "decorator는 function을 parameter로 받아서 function을 return하는 function이다. \n",
    "예를 들어, 아래 코드를 보면, cache function은 이미 연산해둔 피보나치 숫자들을 기억해두는 함수로 사용된다."
   ]
  },
  {
   "cell_type": "code",
   "execution_count": 31,
   "metadata": {},
   "outputs": [
    {
     "name": "stdout",
     "output_type": "stream",
     "text": [
      "calling fibonacci(1)\n",
      "calling fibonacci(2)\n",
      "calling fibonacci(0)\n",
      "calling fibonacci(3)\n",
      "calling fibonacci(4)\n",
      "calling fibonacci(5)\n",
      "calling fibonacci(6)\n",
      "calling fibonacci(7)\n",
      "calling fibonacci(8)\n",
      "[1, 1, 2, 3, 5, 8, 13, 21]\n"
     ]
    }
   ],
   "source": [
    "def cache(function):\n",
    "    cached_values = {}  # Contains already computed values\n",
    "    def wrapping_function(*args):\n",
    "        if args not in cached_values:\n",
    "            # Call the function only if we haven't already done it for those parameters\n",
    "            cached_values[args] = function(*args)\n",
    "        return cached_values[args]\n",
    "    return wrapping_function\n",
    "\n",
    "@cache\n",
    "def fibonacci(n):\n",
    "    print('calling fibonacci(%d)' % n)\n",
    "    if n < 2:\n",
    "        return n\n",
    "    return fibonacci(n-1) + fibonacci(n-2)\n",
    "\n",
    "print([fibonacci(n) for n in range(1, 9)])"
   ]
  },
  {
   "cell_type": "markdown",
   "metadata": {},
   "source": [
    "funtools는 몇몇 decorator를 제공한다. 예를 들어 lru_cache는 같은 인자로 주어진 함수가 호출 되면 가장 최근의 호출결과를 저장해둔다. (시간 절약!)"
   ]
  },
  {
   "cell_type": "code",
   "execution_count": 32,
   "metadata": {},
   "outputs": [
    {
     "name": "stdout",
     "output_type": "stream",
     "text": [
      "calling fibonacci(1)\n",
      "calling fibonacci(2)\n",
      "calling fibonacci(0)\n",
      "calling fibonacci(3)\n",
      "calling fibonacci(4)\n",
      "calling fibonacci(5)\n",
      "calling fibonacci(6)\n",
      "calling fibonacci(7)\n",
      "calling fibonacci(8)\n",
      "[1, 1, 2, 3, 5, 8, 13, 21]\n"
     ]
    }
   ],
   "source": [
    "from functools import lru_cache\n",
    "\n",
    "@lru_cache(maxsize=None)\n",
    "def fibonacci(n):\n",
    "    print('calling fibonacci(%d)' % n)\n",
    "    if n < 2:\n",
    "        return n\n",
    "    return fibonacci(n-1) + fibonacci(n-2)\n",
    "\n",
    "print([fibonacci(n) for n in range(1, 9)])"
   ]
  },
  {
   "cell_type": "markdown",
   "metadata": {},
   "source": [
    "# Context Managers "
   ]
  },
  {
   "cell_type": "markdown",
   "metadata": {},
   "source": [
    "Context managers는 자원을 적절히 관리하기 위해 사용된다. 가장 주로 사용되는 context manager는 with open과 같은 형태로 파일을 여는 기능이다. 하지만 대부분의 개발자들은 이를 스스로 만들어서 사용할 수 있다는 것을 모른다. "
   ]
  },
  {
   "cell_type": "markdown",
   "metadata": {},
   "source": [
    "실제로 context manager는 \\__enter\\__와 \\__exit\\__ 메소드를 가진 클래스이다."
   ]
  },
  {
   "cell_type": "code",
   "execution_count": 34,
   "metadata": {},
   "outputs": [
    {
     "name": "stdout",
     "output_type": "stream",
     "text": [
      "Primes: [2, 3, 5, 7, 11, 13, 17, 19, 23, 29, 31, 37, 41, 43, 47, 53, 59, 61, 67, 71, 73, 79, 83, 89, 97, 101, 103, 107, 109, 113, 127, 131, 137, 139, 149, 151, 157, 163, 167, 173, 179, 181, 191, 193, 197, 199, 211, 223, 227, 229, 233, 239, 241, 251, 257, 263, 269, 271, 277, 281, 283, 293, 307, 311, 313, 317, 331, 337, 347, 349, 353, 359, 367, 373, 379, 383, 389, 397, 401, 409, 419, 421, 431, 433, 439, 443, 449, 457, 461, 463, 467, 479, 487, 491, 499]\n",
      "Elapsed time to compute some prime numbers: 0.9758472442626953ms\n"
     ]
    }
   ],
   "source": [
    "from time import time\n",
    "\n",
    "\n",
    "class Timer():\n",
    "    def __init__(self, message):\n",
    "        self.message = message\n",
    "\n",
    "    def __enter__(self):\n",
    "        self.start = time()\n",
    "        return None  # could return anything, to be used like this: with Timer(\"Message\") as value:\n",
    "\n",
    "    def __exit__(self, type, value, traceback):\n",
    "        elapsed_time = (time() - self.start) * 1000\n",
    "        print(self.message.format(elapsed_time))\n",
    "\n",
    "\n",
    "with Timer(\"Elapsed time to compute some prime numbers: {}ms\"):\n",
    "    primes = []\n",
    "    for x in range(2, 500):\n",
    "        if not any(x % p == 0 for p in primes):\n",
    "            primes.append(x)\n",
    "    print(\"Primes: {}\".format(primes))"
   ]
  },
  {
   "cell_type": "markdown",
   "metadata": {},
   "source": [
    "간단하게 사용하기 위해 @contextmanager decorator와 generator function을 사용할 수 도 있다."
   ]
  },
  {
   "cell_type": "code",
   "execution_count": 35,
   "metadata": {},
   "outputs": [
    {
     "name": "stdout",
     "output_type": "stream",
     "text": [
      "Hello, World!\n",
      "\u001b[31mNow in color!\n",
      "\u001b[0mSo cool.\n"
     ]
    }
   ],
   "source": [
    "from contextlib import contextmanager\n",
    "\n",
    "\n",
    "@contextmanager\n",
    "def colored_output(color):\n",
    "    print(\"\\033[%sm\" % color, end=\"\")\n",
    "    yield\n",
    "    print(\"\\033[0m\", end=\"\")\n",
    "\n",
    "\n",
    "print(\"Hello, World!\")\n",
    "with colored_output(31):\n",
    "    print(\"Now in color!\")\n",
    "print(\"So cool.\")"
   ]
  },
  {
   "cell_type": "code",
   "execution_count": 38,
   "metadata": {},
   "outputs": [
    {
     "name": "stdout",
     "output_type": "stream",
     "text": [
      "\u001b[31mhihi\n"
     ]
    }
   ],
   "source": [
    "print(\"\\033[31mhihi\")"
   ]
  },
  {
   "cell_type": "code",
   "execution_count": null,
   "metadata": {
    "collapsed": true
   },
   "outputs": [],
   "source": []
  }
 ],
 "metadata": {
  "kernelspec": {
   "display_name": "Python 3",
   "language": "python",
   "name": "python3"
  },
  "language_info": {
   "codemirror_mode": {
    "name": "ipython",
    "version": 3
   },
   "file_extension": ".py",
   "mimetype": "text/x-python",
   "name": "python",
   "nbconvert_exporter": "python",
   "pygments_lexer": "ipython3",
   "version": "3.5.2"
  }
 },
 "nbformat": 4,
 "nbformat_minor": 2
}
